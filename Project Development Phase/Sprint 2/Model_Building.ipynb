{
 "cells": [
  {
   "cell_type": "markdown",
   "id": "dd29593a",
   "metadata": {},
   "source": [
    "## DATA COLLECTION"
   ]
  },
  {
   "cell_type": "markdown",
   "id": "82b1b86f",
   "metadata": {},
   "source": [
    "#### Team ID :PNT2022TMID27902\n",
    "#### Project Name:AI-powered Nutrition Analyzer for Fitness Enthusiasts"
   ]
  },
  {
   "cell_type": "markdown",
   "id": "6b387bf7",
   "metadata": {},
   "source": [
    "#### Download the dataset https://drive.google.com/file/d/1hgEWyKicgrntbY5LSkuW_v6G4C93AQfN/view"
   ]
  },
  {
   "cell_type": "markdown",
   "id": "5095a891",
   "metadata": {},
   "source": [
    "### Image Preprocessing"
   ]
  },
  {
   "cell_type": "code",
   "execution_count": 28,
   "id": "c82c10be",
   "metadata": {},
   "outputs": [],
   "source": [
    "from keras.models import Sequential\n",
    "from keras.layers import Dense\n",
    "from keras.layers import Conv2D\n",
    "from keras.layers import MaxPooling2D\n",
    "from keras.layers import Flatten\n",
    "from keras.preprocessing.image import ImageDataGenerator"
   ]
  },
  {
   "cell_type": "markdown",
   "id": "fd246f97",
   "metadata": {},
   "source": [
    "### Image Data Augmentation"
   ]
  },
  {
   "cell_type": "code",
   "execution_count": 2,
   "id": "6b6817f4",
   "metadata": {},
   "outputs": [],
   "source": [
    "#Configure ImageDataGenerator Class\n",
    "train_datagen = ImageDataGenerator(rescale=1./255,shear_range=0.2,zoom_range=0.2,horizontal_flip=True)\n",
    "test_datagen=ImageDataGenerator(rescale=1./255)"
   ]
  },
  {
   "cell_type": "markdown",
   "id": "858a04ad",
   "metadata": {},
   "source": [
    "### Applying Image DataGenerator Functionality To Trainset And Testset"
   ]
  },
  {
   "cell_type": "code",
   "execution_count": 3,
   "id": "3f56049d",
   "metadata": {},
   "outputs": [
    {
     "name": "stdout",
     "output_type": "stream",
     "text": [
      "Found 2626 images belonging to 5 classes.\n",
      "Found 768 images belonging to 4 classes.\n"
     ]
    }
   ],
   "source": [
    "#Applying Image DataGenerator Functionality To Trainset And Testset\n",
    "x_train = train_datagen.flow_from_directory(\n",
    "    directory=r\"./Dataset/TRAIN_SET/\",\n",
    "    target_size=(64, 64),batch_size=5,color_mode='rgb',class_mode='sparse')\n",
    "#Applying Image DataGenerator Functionality To Testset\n",
    "x_test = test_datagen.flow_from_directory(\n",
    "    directory=r\"./Dataset/TEST_SET/\",\n",
    "    target_size=(64, 64),batch_size=5,color_mode='rgb',class_mode='sparse')"
   ]
  },
  {
   "cell_type": "code",
   "execution_count": 4,
   "id": "acacc494",
   "metadata": {},
   "outputs": [
    {
     "name": "stdout",
     "output_type": "stream",
     "text": [
      "{'APPLES': 0, 'BANANA': 1, 'ORANGE': 2, 'PINEAPPLE': 3, 'WATERMELON': 4}\n"
     ]
    }
   ],
   "source": [
    "#checking the number of classes\n",
    "print(x_train.class_indices)"
   ]
  },
  {
   "cell_type": "code",
   "execution_count": 5,
   "id": "3b0afd6f",
   "metadata": {},
   "outputs": [
    {
     "name": "stdout",
     "output_type": "stream",
     "text": [
      "{'APPLES': 0, 'ORANGE': 1, 'PINEAPPLE': 2, 'WATERMELON': 3}\n"
     ]
    }
   ],
   "source": [
    "#checking the number of classes\n",
    "print(x_test.class_indices)"
   ]
  },
  {
   "cell_type": "code",
   "execution_count": 6,
   "id": "0e242f0b",
   "metadata": {},
   "outputs": [
    {
     "data": {
      "text/plain": [
       "Counter({0: 606, 1: 445, 2: 479, 3: 621, 4: 475})"
      ]
     },
     "execution_count": 6,
     "metadata": {},
     "output_type": "execute_result"
    }
   ],
   "source": [
    "from collections import Counter as c\n",
    "c(x_train .labels)"
   ]
  },
  {
   "cell_type": "markdown",
   "id": "dc9b8d48",
   "metadata": {},
   "source": [
    "## Model Building"
   ]
  },
  {
   "cell_type": "markdown",
   "id": "bf71c7d3",
   "metadata": {},
   "source": [
    "1. Importing The Model Building Libraries"
   ]
  },
  {
   "cell_type": "code",
   "execution_count": 30,
   "id": "8e6e8749",
   "metadata": {},
   "outputs": [],
   "source": [
    "import numpy as np\n",
    "import tensorflow as tf\n",
    "from tensorflow.keras.models import Sequential \n",
    "from tensorflow.keras import layers\n",
    "from tensorflow.keras.layers import Dense,Flatten\n",
    "from tensorflow.keras.layers import Conv2D,MaxPooling2D,Dropout\n",
    "from tensorflow.keras.preprocessing import image"
   ]
  },
  {
   "cell_type": "markdown",
   "id": "8057362f",
   "metadata": {},
   "source": [
    "2. Initializing The Model"
   ]
  },
  {
   "cell_type": "code",
   "execution_count": 8,
   "id": "005e424f",
   "metadata": {},
   "outputs": [],
   "source": [
    "model = Sequential()"
   ]
  },
  {
   "cell_type": "markdown",
   "id": "4e832b34",
   "metadata": {},
   "source": [
    "3. Adding CNN Layers"
   ]
  },
  {
   "cell_type": "code",
   "execution_count": 9,
   "id": "82102aa4",
   "metadata": {},
   "outputs": [],
   "source": [
    "# Initializing the CNN\n",
    "classifier = Sequential()\n",
    "\n",
    "# First convolution layer and pooling\n",
    "classifier.add(Conv2D(32, (3, 3), input_shape=(64, 64, 3), activation='relu'))\n",
    "classifier.add(MaxPooling2D(pool_size=(2, 2)))\n",
    "\n",
    "# Second convolution layer and pooling\n",
    "classifier.add(Conv2D(32, (3, 3), activation='relu'))\n",
    "\n",
    "# input_shape is going to be the pooled feature maps from the previous convolution layer\n",
    "classifier.add(MaxPooling2D(pool_size=(2, 2)))\n",
    "\n",
    "# Flattening the layers\n",
    "classifier.add(Flatten())"
   ]
  },
  {
   "cell_type": "markdown",
   "id": "5f356b0d",
   "metadata": {},
   "source": [
    "4. Adding Dense Layers"
   ]
  },
  {
   "cell_type": "code",
   "execution_count": 10,
   "id": "361f20dc",
   "metadata": {},
   "outputs": [],
   "source": [
    "classifier.add(Dense(units=128, activation='relu'))\n",
    "classifier.add(Dense(units=5, activation='softmax'))"
   ]
  },
  {
   "cell_type": "code",
   "execution_count": 11,
   "id": "6622ef12",
   "metadata": {},
   "outputs": [
    {
     "name": "stdout",
     "output_type": "stream",
     "text": [
      "Model: \"sequential_1\"\n",
      "_________________________________________________________________\n",
      " Layer (type)                Output Shape              Param #   \n",
      "=================================================================\n",
      " conv2d (Conv2D)             (None, 62, 62, 32)        896       \n",
      "                                                                 \n",
      " max_pooling2d (MaxPooling2D  (None, 31, 31, 32)       0         \n",
      " )                                                               \n",
      "                                                                 \n",
      " conv2d_1 (Conv2D)           (None, 29, 29, 32)        9248      \n",
      "                                                                 \n",
      " max_pooling2d_1 (MaxPooling  (None, 14, 14, 32)       0         \n",
      " 2D)                                                             \n",
      "                                                                 \n",
      " flatten (Flatten)           (None, 6272)              0         \n",
      "                                                                 \n",
      " dense (Dense)               (None, 128)               802944    \n",
      "                                                                 \n",
      " dense_1 (Dense)             (None, 5)                 645       \n",
      "                                                                 \n",
      "=================================================================\n",
      "Total params: 813,733\n",
      "Trainable params: 813,733\n",
      "Non-trainable params: 0\n",
      "_________________________________________________________________\n"
     ]
    }
   ],
   "source": [
    "#summary of our model\n",
    "classifier.summary()"
   ]
  },
  {
   "cell_type": "markdown",
   "id": "b119f072",
   "metadata": {},
   "source": [
    "5. Configure The Learning Process"
   ]
  },
  {
   "cell_type": "code",
   "execution_count": 12,
   "id": "1e8fc126",
   "metadata": {},
   "outputs": [],
   "source": [
    "# Compiling the CNN\n",
    "# categorical_crossentropy for more than 2\n",
    "classifier.compile(optimizer='adam', loss='sparse_categorical_crossentropy', metrics=['accuracy'])\n"
   ]
  },
  {
   "cell_type": "markdown",
   "id": "068d7c96",
   "metadata": {},
   "source": [
    "6. Train The Model"
   ]
  },
  {
   "cell_type": "code",
   "execution_count": 13,
   "id": "44b90ca5",
   "metadata": {},
   "outputs": [
    {
     "name": "stderr",
     "output_type": "stream",
     "text": [
      "C:\\Users\\kishore\\AppData\\Local\\Temp\\ipykernel_15620\\4177972388.py:2: UserWarning: `Model.fit_generator` is deprecated and will be removed in a future version. Please use `Model.fit`, which supports generators.\n",
      "  classifier.fit_generator(generator=x_train,steps_per_epoch = len(x_train),epochs=20, validation_data=x_test,validation_steps = len(x_test))\n"
     ]
    },
    {
     "name": "stdout",
     "output_type": "stream",
     "text": [
      "Epoch 1/20\n",
      "526/526 [==============================] - 23s 42ms/step - loss: 0.1598 - accuracy: 0.9452 - val_loss: 10.9677 - val_accuracy: 0.1745\n",
      "Epoch 2/20\n",
      "526/526 [==============================] - 14s 27ms/step - loss: 0.0145 - accuracy: 0.9943 - val_loss: 11.6733 - val_accuracy: 0.2005\n",
      "Epoch 3/20\n",
      "526/526 [==============================] - 14s 26ms/step - loss: 0.0298 - accuracy: 0.9912 - val_loss: 12.6610 - val_accuracy: 0.1927\n",
      "Epoch 4/20\n",
      "526/526 [==============================] - 14s 26ms/step - loss: 6.0106e-05 - accuracy: 1.0000 - val_loss: 13.4400 - val_accuracy: 0.2031\n",
      "Epoch 5/20\n",
      "526/526 [==============================] - 14s 26ms/step - loss: 1.9619e-05 - accuracy: 1.0000 - val_loss: 14.1327 - val_accuracy: 0.1966\n",
      "Epoch 6/20\n",
      "526/526 [==============================] - 14s 26ms/step - loss: 1.4664e-05 - accuracy: 1.0000 - val_loss: 15.3322 - val_accuracy: 0.2018\n",
      "Epoch 7/20\n",
      "526/526 [==============================] - 14s 27ms/step - loss: 5.6619e-06 - accuracy: 1.0000 - val_loss: 15.4053 - val_accuracy: 0.1966\n",
      "Epoch 8/20\n",
      "526/526 [==============================] - 15s 28ms/step - loss: 2.7104e-06 - accuracy: 1.0000 - val_loss: 15.6442 - val_accuracy: 0.1927\n",
      "Epoch 9/20\n",
      "526/526 [==============================] - 14s 26ms/step - loss: 1.2164e-05 - accuracy: 1.0000 - val_loss: 15.6902 - val_accuracy: 0.2044\n",
      "Epoch 10/20\n",
      "526/526 [==============================] - 14s 27ms/step - loss: 1.6604e-06 - accuracy: 1.0000 - val_loss: 16.2049 - val_accuracy: 0.1979\n",
      "Epoch 11/20\n",
      "526/526 [==============================] - 14s 26ms/step - loss: 1.4387e-06 - accuracy: 1.0000 - val_loss: 16.4857 - val_accuracy: 0.1927\n",
      "Epoch 12/20\n",
      "526/526 [==============================] - 14s 26ms/step - loss: 0.0837 - accuracy: 0.9779 - val_loss: 13.4296 - val_accuracy: 0.2044\n",
      "Epoch 13/20\n",
      "526/526 [==============================] - 14s 27ms/step - loss: 0.0013 - accuracy: 0.9996 - val_loss: 14.6092 - val_accuracy: 0.2044\n",
      "Epoch 14/20\n",
      "526/526 [==============================] - 14s 27ms/step - loss: 7.6882e-05 - accuracy: 1.0000 - val_loss: 15.5827 - val_accuracy: 0.2044\n",
      "Epoch 15/20\n",
      "526/526 [==============================] - 14s 27ms/step - loss: 4.0693e-05 - accuracy: 1.0000 - val_loss: 16.1966 - val_accuracy: 0.2044\n",
      "Epoch 16/20\n",
      "526/526 [==============================] - 15s 28ms/step - loss: 6.5422e-05 - accuracy: 1.0000 - val_loss: 16.4937 - val_accuracy: 0.2044\n",
      "Epoch 17/20\n",
      "526/526 [==============================] - 14s 27ms/step - loss: 2.4076e-05 - accuracy: 1.0000 - val_loss: 17.1299 - val_accuracy: 0.2044\n",
      "Epoch 18/20\n",
      "526/526 [==============================] - 14s 26ms/step - loss: 1.0395e-05 - accuracy: 1.0000 - val_loss: 17.4637 - val_accuracy: 0.2044\n",
      "Epoch 19/20\n",
      "526/526 [==============================] - 14s 27ms/step - loss: 1.0808e-05 - accuracy: 1.0000 - val_loss: 17.6584 - val_accuracy: 0.2044\n",
      "Epoch 20/20\n",
      "526/526 [==============================] - 15s 28ms/step - loss: 0.0426 - accuracy: 0.9890 - val_loss: 21.9734 - val_accuracy: 0.2044\n"
     ]
    },
    {
     "data": {
      "text/plain": [
       "<keras.callbacks.History at 0x25e9f3c0d90>"
      ]
     },
     "execution_count": 13,
     "metadata": {},
     "output_type": "execute_result"
    }
   ],
   "source": [
    "#Fitting the model\n",
    "classifier.fit_generator(generator=x_train,steps_per_epoch = len(x_train),epochs=20, validation_data=x_test,validation_steps = len(x_test))"
   ]
  },
  {
   "cell_type": "markdown",
   "id": "4178511f",
   "metadata": {},
   "source": [
    "7. Saving The Model"
   ]
  },
  {
   "cell_type": "code",
   "execution_count": 14,
   "id": "c82d0833",
   "metadata": {},
   "outputs": [],
   "source": [
    "classifier.save('nutrition.h5')"
   ]
  },
  {
   "cell_type": "markdown",
   "id": "356648c1",
   "metadata": {},
   "source": [
    "8. Testing The Model"
   ]
  },
  {
   "cell_type": "code",
   "execution_count": 15,
   "id": "be664262",
   "metadata": {},
   "outputs": [],
   "source": [
    "#Predict the results\n",
    "from tensorflow.keras.models import load_model\n",
    "from keras.preprocessing import image\n",
    "model = load_model(\"nutrition.h5\")"
   ]
  },
  {
   "cell_type": "code",
   "execution_count": 32,
   "id": "ce9418b0",
   "metadata": {},
   "outputs": [
    {
     "name": "stdout",
     "output_type": "stream",
     "text": [
      "1/1 [==============================] - 0s 241ms/step\n"
     ]
    },
    {
     "data": {
      "text/plain": [
       "array([0], dtype=int64)"
      ]
     },
     "execution_count": 32,
     "metadata": {},
     "output_type": "execute_result"
    }
   ],
   "source": [
    "from tensorflow.keras.utils import img_to_array\n",
    "#loading of the image\n",
    "img = image.load_img(r'./Sample_Images/Test_Image1.jpg',grayscale=False,target_size= (64,64))\n",
    "#image to array \n",
    "x = img_to_array(img)\n",
    "#changing the shape\n",
    "x = np.expand_dims(x,axis = 0)\n",
    "predict_x=model.predict(x) \n",
    "classes_x=np.argmax(predict_x,axis=-1)\n",
    "classes_x"
   ]
  },
  {
   "cell_type": "code",
   "execution_count": 33,
   "id": "8e7021ff",
   "metadata": {},
   "outputs": [
    {
     "data": {
      "text/plain": [
       "'APPLES'"
      ]
     },
     "execution_count": 33,
     "metadata": {},
     "output_type": "execute_result"
    }
   ],
   "source": [
    "index=['APPLES', 'BANANA', 'ORANGE','PINEAPPLE','WATERMELON']\n",
    "result=str(index[classes_x[0]])\n",
    "result"
   ]
  },
  {
   "cell_type": "code",
   "execution_count": null,
   "id": "9a812f58",
   "metadata": {},
   "outputs": [],
   "source": []
  }
 ],
 "metadata": {
  "kernelspec": {
   "display_name": "Python 3 (ipykernel)",
   "language": "python",
   "name": "python3"
  },
  "language_info": {
   "codemirror_mode": {
    "name": "ipython",
    "version": 3
   },
   "file_extension": ".py",
   "mimetype": "text/x-python",
   "name": "python",
   "nbconvert_exporter": "python",
   "pygments_lexer": "ipython3",
   "version": "3.9.13"
  }
 },
 "nbformat": 4,
 "nbformat_minor": 5
}
