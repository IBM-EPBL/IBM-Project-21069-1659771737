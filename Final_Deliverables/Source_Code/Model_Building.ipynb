{
 "cells": [
  {
   "cell_type": "markdown",
   "id": "dd29593a",
   "metadata": {},
   "source": [
    "## DATA COLLECTION"
   ]
  },
  {
   "cell_type": "markdown",
   "id": "82b1b86f",
   "metadata": {},
   "source": [
    "#### Team ID :PNT2022TMID27902\n",
    "#### Project Name:AI-powered Nutrition Analyzer for Fitness Enthusiasts"
   ]
  },
  {
   "cell_type": "markdown",
   "id": "6b387bf7",
   "metadata": {},
   "source": [
    "#### Download the dataset https://drive.google.com/file/d/1hgEWyKicgrntbY5LSkuW_v6G4C93AQfN/view"
   ]
  },
  {
   "cell_type": "markdown",
   "id": "5095a891",
   "metadata": {},
   "source": [
    "### Image Preprocessing"
   ]
  },
  {
   "cell_type": "code",
   "execution_count": 1,
   "id": "c82c10be",
   "metadata": {},
   "outputs": [],
   "source": [
    "from keras.models import Sequential\n",
    "from keras.layers import Dense\n",
    "from keras.layers import Conv2D\n",
    "from keras.layers import MaxPooling2D\n",
    "from keras.layers import Flatten\n",
    "from keras.preprocessing.image import ImageDataGenerator"
   ]
  },
  {
   "cell_type": "markdown",
   "id": "fd246f97",
   "metadata": {},
   "source": [
    "### Image Data Augmentation"
   ]
  },
  {
   "cell_type": "code",
   "execution_count": 2,
   "id": "6b6817f4",
   "metadata": {},
   "outputs": [],
   "source": [
    "#Configure ImageDataGenerator Class\n",
    "train_datagen = ImageDataGenerator(rescale=1./255,shear_range=0.2,zoom_range=0.2,horizontal_flip=True)\n",
    "test_datagen=ImageDataGenerator(rescale=1./255)"
   ]
  },
  {
   "cell_type": "markdown",
   "id": "858a04ad",
   "metadata": {},
   "source": [
    "### Applying Image DataGenerator Functionality To Trainset And Testset"
   ]
  },
  {
   "cell_type": "code",
   "execution_count": 3,
   "id": "3f56049d",
   "metadata": {},
   "outputs": [
    {
     "name": "stdout",
     "output_type": "stream",
     "text": [
      "Found 2626 images belonging to 5 classes.\n",
      "Found 1055 images belonging to 5 classes.\n"
     ]
    }
   ],
   "source": [
    "#Applying Image DataGenerator Functionality To Trainset And Testset\n",
    "x_train = train_datagen.flow_from_directory(\n",
    "    directory=r\"./Dataset/TRAIN_SET/\",\n",
    "    target_size=(64, 64),batch_size=5,color_mode='rgb',class_mode='sparse')\n",
    "#Applying Image DataGenerator Functionality To Testset\n",
    "x_test = test_datagen.flow_from_directory(\n",
    "    directory=r\"./Dataset/TEST_SET/\",\n",
    "    target_size=(64, 64),batch_size=5,color_mode='rgb',class_mode='sparse')"
   ]
  },
  {
   "cell_type": "code",
   "execution_count": 4,
   "id": "acacc494",
   "metadata": {},
   "outputs": [
    {
     "name": "stdout",
     "output_type": "stream",
     "text": [
      "{'APPLES': 0, 'BANANA': 1, 'ORANGE': 2, 'PINEAPPLE': 3, 'WATERMELON': 4}\n"
     ]
    }
   ],
   "source": [
    "#checking the number of classes\n",
    "print(x_train.class_indices)"
   ]
  },
  {
   "cell_type": "code",
   "execution_count": 5,
   "id": "3b0afd6f",
   "metadata": {},
   "outputs": [
    {
     "name": "stdout",
     "output_type": "stream",
     "text": [
      "{'APPLES': 0, 'BANANA': 1, 'ORANGE': 2, 'PINEAPPLE': 3, 'WATERMELON': 4}\n"
     ]
    }
   ],
   "source": [
    "#checking the number of classes\n",
    "print(x_test.class_indices)"
   ]
  },
  {
   "cell_type": "code",
   "execution_count": 6,
   "id": "0e242f0b",
   "metadata": {},
   "outputs": [
    {
     "data": {
      "text/plain": [
       "Counter({0: 606, 1: 445, 2: 479, 3: 621, 4: 475})"
      ]
     },
     "execution_count": 6,
     "metadata": {},
     "output_type": "execute_result"
    }
   ],
   "source": [
    "from collections import Counter as c\n",
    "c(x_train .labels)"
   ]
  },
  {
   "cell_type": "markdown",
   "id": "dc9b8d48",
   "metadata": {},
   "source": [
    "## Model Building"
   ]
  },
  {
   "cell_type": "markdown",
   "id": "bf71c7d3",
   "metadata": {},
   "source": [
    "1. Importing The Model Building Libraries"
   ]
  },
  {
   "cell_type": "code",
   "execution_count": 7,
   "id": "8e6e8749",
   "metadata": {},
   "outputs": [],
   "source": [
    "import numpy as np\n",
    "import tensorflow as tf\n",
    "from tensorflow.keras.models import Sequential \n",
    "from tensorflow.keras import layers\n",
    "from tensorflow.keras.layers import Dense,Flatten\n",
    "from tensorflow.keras.layers import Conv2D,MaxPooling2D,Dropout\n",
    "from tensorflow.keras.preprocessing import image"
   ]
  },
  {
   "cell_type": "markdown",
   "id": "8057362f",
   "metadata": {},
   "source": [
    "2. Initializing The Model"
   ]
  },
  {
   "cell_type": "code",
   "execution_count": 8,
   "id": "005e424f",
   "metadata": {},
   "outputs": [],
   "source": [
    "model = Sequential()"
   ]
  },
  {
   "cell_type": "markdown",
   "id": "4e832b34",
   "metadata": {},
   "source": [
    "3. Adding CNN Layers"
   ]
  },
  {
   "cell_type": "code",
   "execution_count": 9,
   "id": "82102aa4",
   "metadata": {},
   "outputs": [],
   "source": [
    "# Initializing the CNN\n",
    "classifier = Sequential()\n",
    "\n",
    "# First convolution layer and pooling\n",
    "classifier.add(Conv2D(32, (3, 3), input_shape=(64, 64, 3), activation='relu'))\n",
    "classifier.add(MaxPooling2D(pool_size=(2, 2)))\n",
    "\n",
    "# Second convolution layer and pooling\n",
    "classifier.add(Conv2D(32, (3, 3), activation='relu'))\n",
    "\n",
    "# input_shape is going to be the pooled feature maps from the previous convolution layer\n",
    "classifier.add(MaxPooling2D(pool_size=(2, 2)))\n",
    "\n",
    "# Flattening the layers\n",
    "classifier.add(Flatten())"
   ]
  },
  {
   "cell_type": "markdown",
   "id": "5f356b0d",
   "metadata": {},
   "source": [
    "4. Adding Dense Layers"
   ]
  },
  {
   "cell_type": "code",
   "execution_count": 10,
   "id": "361f20dc",
   "metadata": {},
   "outputs": [],
   "source": [
    "classifier.add(Dense(units=128, activation='relu'))\n",
    "classifier.add(Dense(units=5, activation='softmax'))"
   ]
  },
  {
   "cell_type": "code",
   "execution_count": 11,
   "id": "6622ef12",
   "metadata": {},
   "outputs": [
    {
     "name": "stdout",
     "output_type": "stream",
     "text": [
      "Model: \"sequential_1\"\n",
      "_________________________________________________________________\n",
      " Layer (type)                Output Shape              Param #   \n",
      "=================================================================\n",
      " conv2d (Conv2D)             (None, 62, 62, 32)        896       \n",
      "                                                                 \n",
      " max_pooling2d (MaxPooling2D  (None, 31, 31, 32)       0         \n",
      " )                                                               \n",
      "                                                                 \n",
      " conv2d_1 (Conv2D)           (None, 29, 29, 32)        9248      \n",
      "                                                                 \n",
      " max_pooling2d_1 (MaxPooling  (None, 14, 14, 32)       0         \n",
      " 2D)                                                             \n",
      "                                                                 \n",
      " flatten (Flatten)           (None, 6272)              0         \n",
      "                                                                 \n",
      " dense (Dense)               (None, 128)               802944    \n",
      "                                                                 \n",
      " dense_1 (Dense)             (None, 5)                 645       \n",
      "                                                                 \n",
      "=================================================================\n",
      "Total params: 813,733\n",
      "Trainable params: 813,733\n",
      "Non-trainable params: 0\n",
      "_________________________________________________________________\n"
     ]
    }
   ],
   "source": [
    "#summary of our model\n",
    "classifier.summary()"
   ]
  },
  {
   "cell_type": "markdown",
   "id": "b119f072",
   "metadata": {},
   "source": [
    "5. Configure The Learning Process"
   ]
  },
  {
   "cell_type": "code",
   "execution_count": 12,
   "id": "1e8fc126",
   "metadata": {},
   "outputs": [],
   "source": [
    "# Compiling the CNN\n",
    "# categorical_crossentropy for more than 2\n",
    "classifier.compile(optimizer='adam', loss='sparse_categorical_crossentropy', metrics=['accuracy'])\n"
   ]
  },
  {
   "cell_type": "markdown",
   "id": "068d7c96",
   "metadata": {},
   "source": [
    "6. Train The Model"
   ]
  },
  {
   "cell_type": "code",
   "execution_count": 13,
   "id": "44b90ca5",
   "metadata": {},
   "outputs": [
    {
     "name": "stderr",
     "output_type": "stream",
     "text": [
      "C:\\Users\\kishore\\AppData\\Local\\Temp\\ipykernel_19004\\4177972388.py:2: UserWarning: `Model.fit_generator` is deprecated and will be removed in a future version. Please use `Model.fit`, which supports generators.\n",
      "  classifier.fit_generator(generator=x_train,steps_per_epoch = len(x_train),epochs=20, validation_data=x_test,validation_steps = len(x_test))\n"
     ]
    },
    {
     "name": "stdout",
     "output_type": "stream",
     "text": [
      "Epoch 1/20\n",
      "526/526 [==============================] - 104s 190ms/step - loss: 0.1740 - accuracy: 0.9326 - val_loss: 0.2233 - val_accuracy: 0.9109\n",
      "Epoch 2/20\n",
      "526/526 [==============================] - 15s 28ms/step - loss: 0.0132 - accuracy: 0.9962 - val_loss: 0.1086 - val_accuracy: 0.9659\n",
      "Epoch 3/20\n",
      "526/526 [==============================] - 14s 27ms/step - loss: 3.3923e-04 - accuracy: 1.0000 - val_loss: 0.1076 - val_accuracy: 0.9649\n",
      "Epoch 4/20\n",
      "526/526 [==============================] - 15s 28ms/step - loss: 1.0690e-04 - accuracy: 1.0000 - val_loss: 0.1037 - val_accuracy: 0.9754\n",
      "Epoch 5/20\n",
      "526/526 [==============================] - 16s 31ms/step - loss: 6.2239e-05 - accuracy: 1.0000 - val_loss: 0.0992 - val_accuracy: 0.9763\n",
      "Epoch 6/20\n",
      "526/526 [==============================] - 15s 28ms/step - loss: 3.2016e-05 - accuracy: 1.0000 - val_loss: 0.0336 - val_accuracy: 0.9829\n",
      "Epoch 7/20\n",
      "526/526 [==============================] - 15s 28ms/step - loss: 2.6264e-05 - accuracy: 1.0000 - val_loss: 0.1322 - val_accuracy: 0.9754\n",
      "Epoch 8/20\n",
      "526/526 [==============================] - 15s 28ms/step - loss: 1.3162e-05 - accuracy: 1.0000 - val_loss: 0.0861 - val_accuracy: 0.9791\n",
      "Epoch 9/20\n",
      "526/526 [==============================] - 16s 30ms/step - loss: 0.0443 - accuracy: 0.9859 - val_loss: 0.0041 - val_accuracy: 1.0000\n",
      "Epoch 10/20\n",
      "526/526 [==============================] - 17s 32ms/step - loss: 9.0280e-05 - accuracy: 1.0000 - val_loss: 0.0081 - val_accuracy: 1.0000\n",
      "Epoch 11/20\n",
      "526/526 [==============================] - 17s 32ms/step - loss: 3.5139e-05 - accuracy: 1.0000 - val_loss: 0.0052 - val_accuracy: 1.0000\n",
      "Epoch 12/20\n",
      "526/526 [==============================] - 17s 33ms/step - loss: 1.4856e-05 - accuracy: 1.0000 - val_loss: 0.0029 - val_accuracy: 1.0000\n",
      "Epoch 13/20\n",
      "526/526 [==============================] - 17s 32ms/step - loss: 1.0804e-05 - accuracy: 1.0000 - val_loss: 0.0017 - val_accuracy: 1.0000\n",
      "Epoch 14/20\n",
      "526/526 [==============================] - 17s 32ms/step - loss: 7.3695e-06 - accuracy: 1.0000 - val_loss: 0.0027 - val_accuracy: 1.0000\n",
      "Epoch 15/20\n",
      "526/526 [==============================] - 17s 32ms/step - loss: 3.6204e-06 - accuracy: 1.0000 - val_loss: 0.0042 - val_accuracy: 1.0000\n",
      "Epoch 16/20\n",
      "526/526 [==============================] - 18s 33ms/step - loss: 3.4639e-06 - accuracy: 1.0000 - val_loss: 0.0032 - val_accuracy: 1.0000\n",
      "Epoch 17/20\n",
      "526/526 [==============================] - 17s 33ms/step - loss: 2.1364e-06 - accuracy: 1.0000 - val_loss: 0.0023 - val_accuracy: 1.0000\n",
      "Epoch 18/20\n",
      "526/526 [==============================] - 17s 32ms/step - loss: 1.4287e-06 - accuracy: 1.0000 - val_loss: 0.0036 - val_accuracy: 1.0000\n",
      "Epoch 19/20\n",
      "526/526 [==============================] - 17s 32ms/step - loss: 1.6835e-06 - accuracy: 1.0000 - val_loss: 0.0012 - val_accuracy: 1.0000\n",
      "Epoch 20/20\n",
      "526/526 [==============================] - 17s 32ms/step - loss: 1.6099e-06 - accuracy: 1.0000 - val_loss: 0.0011 - val_accuracy: 1.0000\n"
     ]
    },
    {
     "data": {
      "text/plain": [
       "<keras.callbacks.History at 0x12cd51c82b0>"
      ]
     },
     "execution_count": 13,
     "metadata": {},
     "output_type": "execute_result"
    }
   ],
   "source": [
    "#Fitting the model\n",
    "classifier.fit_generator(generator=x_train,steps_per_epoch = len(x_train),epochs=20, validation_data=x_test,validation_steps = len(x_test))"
   ]
  },
  {
   "cell_type": "markdown",
   "id": "4178511f",
   "metadata": {},
   "source": [
    "7. Saving The Model"
   ]
  },
  {
   "cell_type": "code",
   "execution_count": 32,
   "id": "c82d0833",
   "metadata": {},
   "outputs": [],
   "source": [
    "classifier.save('nutrition.h5')"
   ]
  },
  {
   "cell_type": "markdown",
   "id": "356648c1",
   "metadata": {},
   "source": [
    "8. Testing The Model"
   ]
  },
  {
   "cell_type": "code",
   "execution_count": 35,
   "id": "be664262",
   "metadata": {},
   "outputs": [],
   "source": [
    "#Predict the results\n",
    "from tensorflow.keras.models import load_model\n",
    "from tensorflow.keras.preprocessing import image\n",
    "model = load_model(\"nutrition.h5\")"
   ]
  },
  {
   "cell_type": "code",
   "execution_count": 37,
   "id": "ce9418b0",
   "metadata": {},
   "outputs": [
    {
     "name": "stdout",
     "output_type": "stream",
     "text": [
      "1/1 [==============================] - 0s 274ms/step\n"
     ]
    },
    {
     "data": {
      "text/plain": [
       "array([0], dtype=int64)"
      ]
     },
     "execution_count": 37,
     "metadata": {},
     "output_type": "execute_result"
    }
   ],
   "source": [
    "from tensorflow.keras.utils import img_to_array\n",
    "#loading of the image\n",
    "img = image.load_img(r'./Sample_Images/Test_Image1.jpg',grayscale=False,target_size= (64,64))\n",
    "#image to array directory=r\"./Dataset/TEST_SET/\"\n",
    "x = img_to_array(img)\n",
    "#changing the shape\n",
    "x = np.expand_dims(x,axis = 0)\n",
    "predict_x=model.predict(x) \n",
    "classes_x=np.argmax(predict_x,axis=-1)\n",
    "classes_x"
   ]
  },
  {
   "cell_type": "code",
   "execution_count": 38,
   "id": "8e7021ff",
   "metadata": {},
   "outputs": [
    {
     "data": {
      "text/plain": [
       "'APPLES'"
      ]
     },
     "execution_count": 38,
     "metadata": {},
     "output_type": "execute_result"
    }
   ],
   "source": [
    "index=['APPLES', 'BANANA', 'ORANGE','PINEAPPLE','WATERMELON']\n",
    "result=str(index[classes_x[0]])\n",
    "result"
   ]
  },
  {
   "cell_type": "code",
   "execution_count": 46,
   "id": "9a812f58",
   "metadata": {},
   "outputs": [],
   "source": [
    "import pandas as pd\n",
    "import numpy as np\n",
    "import sqlite3 as sql"
   ]
  },
  {
   "cell_type": "code",
   "execution_count": 47,
   "id": "52d147b6",
   "metadata": {},
   "outputs": [],
   "source": [
    "database=\"nutri.db\"\n",
    "connection = sql.connect(database)"
   ]
  },
  {
   "cell_type": "code",
   "execution_count": 49,
   "id": "371fb39b",
   "metadata": {},
   "outputs": [],
   "source": [
    "query='''SELECT * FROM NUTRI'''"
   ]
  },
  {
   "cell_type": "code",
   "execution_count": 50,
   "id": "bf7ace8b",
   "metadata": {},
   "outputs": [
    {
     "data": {
      "text/html": [
       "<div>\n",
       "<style scoped>\n",
       "    .dataframe tbody tr th:only-of-type {\n",
       "        vertical-align: middle;\n",
       "    }\n",
       "\n",
       "    .dataframe tbody tr th {\n",
       "        vertical-align: top;\n",
       "    }\n",
       "\n",
       "    .dataframe thead th {\n",
       "        text-align: right;\n",
       "    }\n",
       "</style>\n",
       "<table border=\"1\" class=\"dataframe\">\n",
       "  <thead>\n",
       "    <tr style=\"text-align: right;\">\n",
       "      <th></th>\n",
       "      <th>FRUIT</th>\n",
       "      <th>SERVING</th>\n",
       "      <th>ENERGY</th>\n",
       "      <th>FAT</th>\n",
       "      <th>SATURATED_FAT</th>\n",
       "      <th>MONOUNSATURATED_FAT</th>\n",
       "      <th>POLYUNSATURATED_FAT</th>\n",
       "      <th>CARBOHYDRATES</th>\n",
       "      <th>SUGAR</th>\n",
       "      <th>FIBRE</th>\n",
       "      <th>PROTEIN</th>\n",
       "      <th>SODIUM</th>\n",
       "      <th>CHOLESTEROL</th>\n",
       "      <th>POTASSIUM</th>\n",
       "      <th>OUTPUT</th>\n",
       "    </tr>\n",
       "  </thead>\n",
       "  <tbody>\n",
       "    <tr>\n",
       "      <th>0</th>\n",
       "      <td>Apple</td>\n",
       "      <td>100 g</td>\n",
       "      <td>218 KJ</td>\n",
       "      <td>0.17 g</td>\n",
       "      <td>0.028 g</td>\n",
       "      <td>0.007 g</td>\n",
       "      <td>0.051 g</td>\n",
       "      <td>13.81 g</td>\n",
       "      <td>10.39 g</td>\n",
       "      <td>2.4 g</td>\n",
       "      <td>0.26 g</td>\n",
       "      <td>1 mg</td>\n",
       "      <td>0 mg</td>\n",
       "      <td>107 mg</td>\n",
       "      <td>There are 52 calories in 100 grams of Apples.</td>\n",
       "    </tr>\n",
       "    <tr>\n",
       "      <th>1</th>\n",
       "      <td>Banana</td>\n",
       "      <td>100 g</td>\n",
       "      <td>372 KJ</td>\n",
       "      <td>0.33 g</td>\n",
       "      <td>0.112 g</td>\n",
       "      <td>0.032 g</td>\n",
       "      <td>0.073 g</td>\n",
       "      <td>22.84 g</td>\n",
       "      <td>12.23 g</td>\n",
       "      <td>2.6 g</td>\n",
       "      <td>1.09 g</td>\n",
       "      <td>1 mg</td>\n",
       "      <td>0 mg</td>\n",
       "      <td>358 mg</td>\n",
       "      <td>There are 89 calories in 100 grams of Bananas.</td>\n",
       "    </tr>\n",
       "    <tr>\n",
       "      <th>2</th>\n",
       "      <td>Orange</td>\n",
       "      <td>100 g</td>\n",
       "      <td>197 KJ</td>\n",
       "      <td>0.12 g</td>\n",
       "      <td>0.015 g</td>\n",
       "      <td>0.023 g</td>\n",
       "      <td>0.025 g</td>\n",
       "      <td>11.75 g</td>\n",
       "      <td>9.35 g</td>\n",
       "      <td>2.4 g</td>\n",
       "      <td>0.94 g</td>\n",
       "      <td>0 mg</td>\n",
       "      <td>0 mg</td>\n",
       "      <td>181 mg</td>\n",
       "      <td>There are 47 calories in 100 grams of Oranges.</td>\n",
       "    </tr>\n",
       "    <tr>\n",
       "      <th>3</th>\n",
       "      <td>Pineapple</td>\n",
       "      <td>100 g</td>\n",
       "      <td>201 KJ</td>\n",
       "      <td>0.12 g</td>\n",
       "      <td>0.009 g</td>\n",
       "      <td>0.014 g</td>\n",
       "      <td>0.042 g</td>\n",
       "      <td>12.63 g</td>\n",
       "      <td>9.26 g</td>\n",
       "      <td>1.4 g</td>\n",
       "      <td>0.54 g</td>\n",
       "      <td>1 mg</td>\n",
       "      <td>0 mg</td>\n",
       "      <td>115 mg</td>\n",
       "      <td>There are 48 calories in 100 grams of Pineapple.</td>\n",
       "    </tr>\n",
       "    <tr>\n",
       "      <th>4</th>\n",
       "      <td>Watermelon</td>\n",
       "      <td>100 g</td>\n",
       "      <td>126 KJ</td>\n",
       "      <td>0.15 g</td>\n",
       "      <td>0.016 g</td>\n",
       "      <td>0.037 g</td>\n",
       "      <td>0.05 g</td>\n",
       "      <td>7.55 g</td>\n",
       "      <td>6.2 g</td>\n",
       "      <td>0.4 g</td>\n",
       "      <td>0.61 g</td>\n",
       "      <td>1 mg</td>\n",
       "      <td>0 mg</td>\n",
       "      <td>112 mg</td>\n",
       "      <td>There are 30 calories in 100 grams of Watermelon.</td>\n",
       "    </tr>\n",
       "  </tbody>\n",
       "</table>\n",
       "</div>"
      ],
      "text/plain": [
       "        FRUIT SERVING  ENERGY     FAT SATURATED_FAT MONOUNSATURATED_FAT  \\\n",
       "0       Apple   100 g  218 KJ  0.17 g       0.028 g             0.007 g   \n",
       "1      Banana   100 g  372 KJ  0.33 g       0.112 g             0.032 g   \n",
       "2      Orange   100 g  197 KJ  0.12 g       0.015 g             0.023 g   \n",
       "3   Pineapple   100 g  201 KJ  0.12 g       0.009 g             0.014 g   \n",
       "4  Watermelon   100 g  126 KJ  0.15 g       0.016 g             0.037 g   \n",
       "\n",
       "  POLYUNSATURATED_FAT CARBOHYDRATES    SUGAR  FIBRE PROTEIN SODIUM  \\\n",
       "0             0.051 g       13.81 g  10.39 g  2.4 g  0.26 g   1 mg   \n",
       "1             0.073 g       22.84 g  12.23 g  2.6 g  1.09 g   1 mg   \n",
       "2             0.025 g       11.75 g   9.35 g  2.4 g  0.94 g   0 mg   \n",
       "3             0.042 g       12.63 g   9.26 g  1.4 g  0.54 g   1 mg   \n",
       "4              0.05 g        7.55 g    6.2 g  0.4 g  0.61 g   1 mg   \n",
       "\n",
       "  CHOLESTEROL POTASSIUM                                             OUTPUT  \n",
       "0        0 mg    107 mg      There are 52 calories in 100 grams of Apples.  \n",
       "1        0 mg    358 mg     There are 89 calories in 100 grams of Bananas.  \n",
       "2        0 mg    181 mg     There are 47 calories in 100 grams of Oranges.  \n",
       "3        0 mg    115 mg   There are 48 calories in 100 grams of Pineapple.  \n",
       "4        0 mg    112 mg  There are 30 calories in 100 grams of Watermelon.  "
      ]
     },
     "execution_count": 50,
     "metadata": {},
     "output_type": "execute_result"
    }
   ],
   "source": [
    "df=pd.read_sql_query(query,connection)\n",
    "df.head()"
   ]
  },
  {
   "cell_type": "code",
   "execution_count": null,
   "id": "e4af83db",
   "metadata": {},
   "outputs": [],
   "source": []
  }
 ],
 "metadata": {
  "kernelspec": {
   "display_name": "Python 3 (ipykernel)",
   "language": "python",
   "name": "python3"
  },
  "language_info": {
   "codemirror_mode": {
    "name": "ipython",
    "version": 3
   },
   "file_extension": ".py",
   "mimetype": "text/x-python",
   "name": "python",
   "nbconvert_exporter": "python",
   "pygments_lexer": "ipython3",
   "version": "3.9.13"
  }
 },
 "nbformat": 4,
 "nbformat_minor": 5
}
